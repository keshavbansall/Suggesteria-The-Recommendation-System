{
  "nbformat": 4,
  "nbformat_minor": 0,
  "metadata": {
    "colab": {
      "provenance": []
    },
    "kernelspec": {
      "name": "python3",
      "display_name": "Python 3"
    },
    "language_info": {
      "name": "python"
    }
  },
  "cells": [
    {
      "cell_type": "markdown",
      "source": [
        "\n",
        "# Importing Libraries\n",
        "\n"
      ],
      "metadata": {
        "id": "qOrfmOvVE16r"
      }
    },
    {
      "cell_type": "code",
      "source": [
        "import pandas as pd\n",
        "from scipy.sparse import csr_matrix\n",
        "import time, numpy as np\n",
        "import matplotlib.pyplot as plt"
      ],
      "metadata": {
        "id": "6l7P-xRg3IL0"
      },
      "execution_count": null,
      "outputs": []
    },
    {
      "cell_type": "code",
      "source": [
        "from fastai.collab import *\n",
        "from fastai.tabular.all import *\n",
        "set_seed(42)"
      ],
      "metadata": {
        "id": "VeiUYXsgpF3x"
      },
      "execution_count": null,
      "outputs": []
    },
    {
      "cell_type": "markdown",
      "source": [
        "# Data"
      ],
      "metadata": {
        "id": "drjpB8AZ3U0m"
      }
    },
    {
      "cell_type": "code",
      "source": [
        "path = untar_data(URLs.ML_100k)"
      ],
      "metadata": {
        "id": "wOnFWiBXpKIM",
        "colab": {
          "base_uri": "https://localhost:8080/",
          "height": 37
        },
        "outputId": "95432eb1-a697-458b-ccb8-f5288e992660"
      },
      "execution_count": null,
      "outputs": [
        {
          "output_type": "display_data",
          "data": {
            "text/plain": [
              "<IPython.core.display.HTML object>"
            ],
            "text/html": [
              "\n",
              "<style>\n",
              "    /* Turns off some styling */\n",
              "    progress {\n",
              "        /* gets rid of default border in Firefox and Opera. */\n",
              "        border: none;\n",
              "        /* Needs to be in here for Safari polyfill so background images work as expected. */\n",
              "        background-size: auto;\n",
              "    }\n",
              "    progress:not([value]), progress:not([value])::-webkit-progress-bar {\n",
              "        background: repeating-linear-gradient(45deg, #7e7e7e, #7e7e7e 10px, #5c5c5c 10px, #5c5c5c 20px);\n",
              "    }\n",
              "    .progress-bar-interrupted, .progress-bar-interrupted::-webkit-progress-bar {\n",
              "        background: #F44336;\n",
              "    }\n",
              "</style>\n"
            ]
          },
          "metadata": {}
        },
        {
          "output_type": "display_data",
          "data": {
            "text/plain": [
              "<IPython.core.display.HTML object>"
            ],
            "text/html": [
              "\n",
              "    <div>\n",
              "      <progress value='4931584' class='' max='4924029' style='width:300px; height:20px; vertical-align: middle;'></progress>\n",
              "      100.15% [4931584/4924029 00:00&lt;00:00]\n",
              "    </div>\n",
              "    "
            ]
          },
          "metadata": {}
        }
      ]
    },
    {
      "cell_type": "code",
      "source": [
        "ratings = pd.read_csv(path/'u.data', delimiter='\\t', header=None,\n",
        "                      names=['user','movie','rating','timestamp'])\n",
        "ratings.head()"
      ],
      "metadata": {
        "colab": {
          "base_uri": "https://localhost:8080/",
          "height": 206
        },
        "id": "f6HEz4GYpNo8",
        "outputId": "24794875-ceb9-441c-8e1c-d2369a1536be"
      },
      "execution_count": null,
      "outputs": [
        {
          "output_type": "execute_result",
          "data": {
            "text/plain": [
              "   user  movie  rating  timestamp\n",
              "0   196    242       3  881250949\n",
              "1   186    302       3  891717742\n",
              "2    22    377       1  878887116\n",
              "3   244     51       2  880606923\n",
              "4   166    346       1  886397596"
            ],
            "text/html": [
              "\n",
              "  <div id=\"df-070efe1f-7a6b-44f0-a45f-d83cbed53d26\" class=\"colab-df-container\">\n",
              "    <div>\n",
              "<style scoped>\n",
              "    .dataframe tbody tr th:only-of-type {\n",
              "        vertical-align: middle;\n",
              "    }\n",
              "\n",
              "    .dataframe tbody tr th {\n",
              "        vertical-align: top;\n",
              "    }\n",
              "\n",
              "    .dataframe thead th {\n",
              "        text-align: right;\n",
              "    }\n",
              "</style>\n",
              "<table border=\"1\" class=\"dataframe\">\n",
              "  <thead>\n",
              "    <tr style=\"text-align: right;\">\n",
              "      <th></th>\n",
              "      <th>user</th>\n",
              "      <th>movie</th>\n",
              "      <th>rating</th>\n",
              "      <th>timestamp</th>\n",
              "    </tr>\n",
              "  </thead>\n",
              "  <tbody>\n",
              "    <tr>\n",
              "      <th>0</th>\n",
              "      <td>196</td>\n",
              "      <td>242</td>\n",
              "      <td>3</td>\n",
              "      <td>881250949</td>\n",
              "    </tr>\n",
              "    <tr>\n",
              "      <th>1</th>\n",
              "      <td>186</td>\n",
              "      <td>302</td>\n",
              "      <td>3</td>\n",
              "      <td>891717742</td>\n",
              "    </tr>\n",
              "    <tr>\n",
              "      <th>2</th>\n",
              "      <td>22</td>\n",
              "      <td>377</td>\n",
              "      <td>1</td>\n",
              "      <td>878887116</td>\n",
              "    </tr>\n",
              "    <tr>\n",
              "      <th>3</th>\n",
              "      <td>244</td>\n",
              "      <td>51</td>\n",
              "      <td>2</td>\n",
              "      <td>880606923</td>\n",
              "    </tr>\n",
              "    <tr>\n",
              "      <th>4</th>\n",
              "      <td>166</td>\n",
              "      <td>346</td>\n",
              "      <td>1</td>\n",
              "      <td>886397596</td>\n",
              "    </tr>\n",
              "  </tbody>\n",
              "</table>\n",
              "</div>\n",
              "    <div class=\"colab-df-buttons\">\n",
              "\n",
              "  <div class=\"colab-df-container\">\n",
              "    <button class=\"colab-df-convert\" onclick=\"convertToInteractive('df-070efe1f-7a6b-44f0-a45f-d83cbed53d26')\"\n",
              "            title=\"Convert this dataframe to an interactive table.\"\n",
              "            style=\"display:none;\">\n",
              "\n",
              "  <svg xmlns=\"http://www.w3.org/2000/svg\" height=\"24px\" viewBox=\"0 -960 960 960\">\n",
              "    <path d=\"M120-120v-720h720v720H120Zm60-500h600v-160H180v160Zm220 220h160v-160H400v160Zm0 220h160v-160H400v160ZM180-400h160v-160H180v160Zm440 0h160v-160H620v160ZM180-180h160v-160H180v160Zm440 0h160v-160H620v160Z\"/>\n",
              "  </svg>\n",
              "    </button>\n",
              "\n",
              "  <style>\n",
              "    .colab-df-container {\n",
              "      display:flex;\n",
              "      gap: 12px;\n",
              "    }\n",
              "\n",
              "    .colab-df-convert {\n",
              "      background-color: #E8F0FE;\n",
              "      border: none;\n",
              "      border-radius: 50%;\n",
              "      cursor: pointer;\n",
              "      display: none;\n",
              "      fill: #1967D2;\n",
              "      height: 32px;\n",
              "      padding: 0 0 0 0;\n",
              "      width: 32px;\n",
              "    }\n",
              "\n",
              "    .colab-df-convert:hover {\n",
              "      background-color: #E2EBFA;\n",
              "      box-shadow: 0px 1px 2px rgba(60, 64, 67, 0.3), 0px 1px 3px 1px rgba(60, 64, 67, 0.15);\n",
              "      fill: #174EA6;\n",
              "    }\n",
              "\n",
              "    .colab-df-buttons div {\n",
              "      margin-bottom: 4px;\n",
              "    }\n",
              "\n",
              "    [theme=dark] .colab-df-convert {\n",
              "      background-color: #3B4455;\n",
              "      fill: #D2E3FC;\n",
              "    }\n",
              "\n",
              "    [theme=dark] .colab-df-convert:hover {\n",
              "      background-color: #434B5C;\n",
              "      box-shadow: 0px 1px 3px 1px rgba(0, 0, 0, 0.15);\n",
              "      filter: drop-shadow(0px 1px 2px rgba(0, 0, 0, 0.3));\n",
              "      fill: #FFFFFF;\n",
              "    }\n",
              "  </style>\n",
              "\n",
              "    <script>\n",
              "      const buttonEl =\n",
              "        document.querySelector('#df-070efe1f-7a6b-44f0-a45f-d83cbed53d26 button.colab-df-convert');\n",
              "      buttonEl.style.display =\n",
              "        google.colab.kernel.accessAllowed ? 'block' : 'none';\n",
              "\n",
              "      async function convertToInteractive(key) {\n",
              "        const element = document.querySelector('#df-070efe1f-7a6b-44f0-a45f-d83cbed53d26');\n",
              "        const dataTable =\n",
              "          await google.colab.kernel.invokeFunction('convertToInteractive',\n",
              "                                                    [key], {});\n",
              "        if (!dataTable) return;\n",
              "\n",
              "        const docLinkHtml = 'Like what you see? Visit the ' +\n",
              "          '<a target=\"_blank\" href=https://colab.research.google.com/notebooks/data_table.ipynb>data table notebook</a>'\n",
              "          + ' to learn more about interactive tables.';\n",
              "        element.innerHTML = '';\n",
              "        dataTable['output_type'] = 'display_data';\n",
              "        await google.colab.output.renderOutput(dataTable, element);\n",
              "        const docLink = document.createElement('div');\n",
              "        docLink.innerHTML = docLinkHtml;\n",
              "        element.appendChild(docLink);\n",
              "      }\n",
              "    </script>\n",
              "  </div>\n",
              "\n",
              "\n",
              "<div id=\"df-91da7a8c-b66e-4fc0-9c31-8423b21c035d\">\n",
              "  <button class=\"colab-df-quickchart\" onclick=\"quickchart('df-91da7a8c-b66e-4fc0-9c31-8423b21c035d')\"\n",
              "            title=\"Suggest charts\"\n",
              "            style=\"display:none;\">\n",
              "\n",
              "<svg xmlns=\"http://www.w3.org/2000/svg\" height=\"24px\"viewBox=\"0 0 24 24\"\n",
              "     width=\"24px\">\n",
              "    <g>\n",
              "        <path d=\"M19 3H5c-1.1 0-2 .9-2 2v14c0 1.1.9 2 2 2h14c1.1 0 2-.9 2-2V5c0-1.1-.9-2-2-2zM9 17H7v-7h2v7zm4 0h-2V7h2v10zm4 0h-2v-4h2v4z\"/>\n",
              "    </g>\n",
              "</svg>\n",
              "  </button>\n",
              "\n",
              "<style>\n",
              "  .colab-df-quickchart {\n",
              "      --bg-color: #E8F0FE;\n",
              "      --fill-color: #1967D2;\n",
              "      --hover-bg-color: #E2EBFA;\n",
              "      --hover-fill-color: #174EA6;\n",
              "      --disabled-fill-color: #AAA;\n",
              "      --disabled-bg-color: #DDD;\n",
              "  }\n",
              "\n",
              "  [theme=dark] .colab-df-quickchart {\n",
              "      --bg-color: #3B4455;\n",
              "      --fill-color: #D2E3FC;\n",
              "      --hover-bg-color: #434B5C;\n",
              "      --hover-fill-color: #FFFFFF;\n",
              "      --disabled-bg-color: #3B4455;\n",
              "      --disabled-fill-color: #666;\n",
              "  }\n",
              "\n",
              "  .colab-df-quickchart {\n",
              "    background-color: var(--bg-color);\n",
              "    border: none;\n",
              "    border-radius: 50%;\n",
              "    cursor: pointer;\n",
              "    display: none;\n",
              "    fill: var(--fill-color);\n",
              "    height: 32px;\n",
              "    padding: 0;\n",
              "    width: 32px;\n",
              "  }\n",
              "\n",
              "  .colab-df-quickchart:hover {\n",
              "    background-color: var(--hover-bg-color);\n",
              "    box-shadow: 0 1px 2px rgba(60, 64, 67, 0.3), 0 1px 3px 1px rgba(60, 64, 67, 0.15);\n",
              "    fill: var(--button-hover-fill-color);\n",
              "  }\n",
              "\n",
              "  .colab-df-quickchart-complete:disabled,\n",
              "  .colab-df-quickchart-complete:disabled:hover {\n",
              "    background-color: var(--disabled-bg-color);\n",
              "    fill: var(--disabled-fill-color);\n",
              "    box-shadow: none;\n",
              "  }\n",
              "\n",
              "  .colab-df-spinner {\n",
              "    border: 2px solid var(--fill-color);\n",
              "    border-color: transparent;\n",
              "    border-bottom-color: var(--fill-color);\n",
              "    animation:\n",
              "      spin 1s steps(1) infinite;\n",
              "  }\n",
              "\n",
              "  @keyframes spin {\n",
              "    0% {\n",
              "      border-color: transparent;\n",
              "      border-bottom-color: var(--fill-color);\n",
              "      border-left-color: var(--fill-color);\n",
              "    }\n",
              "    20% {\n",
              "      border-color: transparent;\n",
              "      border-left-color: var(--fill-color);\n",
              "      border-top-color: var(--fill-color);\n",
              "    }\n",
              "    30% {\n",
              "      border-color: transparent;\n",
              "      border-left-color: var(--fill-color);\n",
              "      border-top-color: var(--fill-color);\n",
              "      border-right-color: var(--fill-color);\n",
              "    }\n",
              "    40% {\n",
              "      border-color: transparent;\n",
              "      border-right-color: var(--fill-color);\n",
              "      border-top-color: var(--fill-color);\n",
              "    }\n",
              "    60% {\n",
              "      border-color: transparent;\n",
              "      border-right-color: var(--fill-color);\n",
              "    }\n",
              "    80% {\n",
              "      border-color: transparent;\n",
              "      border-right-color: var(--fill-color);\n",
              "      border-bottom-color: var(--fill-color);\n",
              "    }\n",
              "    90% {\n",
              "      border-color: transparent;\n",
              "      border-bottom-color: var(--fill-color);\n",
              "    }\n",
              "  }\n",
              "</style>\n",
              "\n",
              "  <script>\n",
              "    async function quickchart(key) {\n",
              "      const quickchartButtonEl =\n",
              "        document.querySelector('#' + key + ' button');\n",
              "      quickchartButtonEl.disabled = true;  // To prevent multiple clicks.\n",
              "      quickchartButtonEl.classList.add('colab-df-spinner');\n",
              "      try {\n",
              "        const charts = await google.colab.kernel.invokeFunction(\n",
              "            'suggestCharts', [key], {});\n",
              "      } catch (error) {\n",
              "        console.error('Error during call to suggestCharts:', error);\n",
              "      }\n",
              "      quickchartButtonEl.classList.remove('colab-df-spinner');\n",
              "      quickchartButtonEl.classList.add('colab-df-quickchart-complete');\n",
              "    }\n",
              "    (() => {\n",
              "      let quickchartButtonEl =\n",
              "        document.querySelector('#df-91da7a8c-b66e-4fc0-9c31-8423b21c035d button');\n",
              "      quickchartButtonEl.style.display =\n",
              "        google.colab.kernel.accessAllowed ? 'block' : 'none';\n",
              "    })();\n",
              "  </script>\n",
              "</div>\n",
              "\n",
              "    </div>\n",
              "  </div>\n"
            ],
            "application/vnd.google.colaboratory.intrinsic+json": {
              "type": "dataframe",
              "variable_name": "ratings",
              "summary": "{\n  \"name\": \"ratings\",\n  \"rows\": 100000,\n  \"fields\": [\n    {\n      \"column\": \"user\",\n      \"properties\": {\n        \"dtype\": \"number\",\n        \"std\": 266,\n        \"min\": 1,\n        \"max\": 943,\n        \"num_unique_values\": 943,\n        \"samples\": [\n          262,\n          136,\n          821\n        ],\n        \"semantic_type\": \"\",\n        \"description\": \"\"\n      }\n    },\n    {\n      \"column\": \"movie\",\n      \"properties\": {\n        \"dtype\": \"number\",\n        \"std\": 330,\n        \"min\": 1,\n        \"max\": 1682,\n        \"num_unique_values\": 1682,\n        \"samples\": [\n          1557,\n          808,\n          1618\n        ],\n        \"semantic_type\": \"\",\n        \"description\": \"\"\n      }\n    },\n    {\n      \"column\": \"rating\",\n      \"properties\": {\n        \"dtype\": \"number\",\n        \"std\": 1,\n        \"min\": 1,\n        \"max\": 5,\n        \"num_unique_values\": 5,\n        \"samples\": [\n          1,\n          5,\n          2\n        ],\n        \"semantic_type\": \"\",\n        \"description\": \"\"\n      }\n    },\n    {\n      \"column\": \"timestamp\",\n      \"properties\": {\n        \"dtype\": \"number\",\n        \"std\": 5343856,\n        \"min\": 874724710,\n        \"max\": 893286638,\n        \"num_unique_values\": 49282,\n        \"samples\": [\n          889728713,\n          888443306,\n          880605158\n        ],\n        \"semantic_type\": \"\",\n        \"description\": \"\"\n      }\n    }\n  ]\n}"
            }
          },
          "metadata": {},
          "execution_count": 3
        }
      ]
    },
    {
      "cell_type": "markdown",
      "source": [
        "Converting 1-based indexing to 0-based indexing"
      ],
      "metadata": {
        "id": "nmDqxJt9FMma"
      }
    },
    {
      "cell_type": "code",
      "source": [
        "ratings['user'] = ratings['user'] - 1\n",
        "ratings['movie'] = ratings['movie'] - 1"
      ],
      "metadata": {
        "id": "3Px_GV1wtGww"
      },
      "execution_count": null,
      "outputs": []
    },
    {
      "cell_type": "code",
      "source": [
        "new_ratings = csr_matrix(\n",
        "    (ratings.rating.values, (ratings.user.values, ratings.movie.values)),\n",
        "    shape=(len(ratings.user.unique()), len(ratings.movie.unique()))\n",
        ").toarray()"
      ],
      "metadata": {
        "id": "8cUzzbFFrNxO"
      },
      "execution_count": null,
      "outputs": []
    },
    {
      "cell_type": "markdown",
      "source": [
        "# Matrix Factorization"
      ],
      "metadata": {
        "id": "rE3dKbec3Zsq"
      }
    },
    {
      "cell_type": "code",
      "source": [
        "class MatrixFactorization():\n",
        "\n",
        "    def __init__(self, ratings, n_factors=100, l_rate=0.01, alpha=0.01, n_iter=100):\n",
        "        self.ratings = ratings\n",
        "        self.n_users, self.n_items = ratings.shape\n",
        "        self.non_zero_row_ind, self.non_zero_col_ind = ratings.nonzero()\n",
        "        self.n_interac = len(ratings[np.where(ratings != 0)])\n",
        "        self.ind_lst = list(range(self.n_interac))\n",
        "        self.n_factors = n_factors\n",
        "        self.l_rate = l_rate\n",
        "        self.alpha = alpha\n",
        "        self.n_iter = n_iter\n",
        "        self.mse_lst = []\n",
        "        self.wait = 10\n",
        "        self.tol = 1e-3\n",
        "        self.n_iter_no_change = 10\n",
        "        self.verbose = True\n",
        "        self.stop = False\n",
        "\n",
        "    def initialize(self, ):\n",
        "        self.now = time.time()\n",
        "        # Initialize Bias Values\n",
        "        self.user_biases = np.zeros(self.n_users)\n",
        "        self.item_biases = np.zeros(self.n_items)\n",
        "        # initialize user & item vectors\n",
        "        self.user_vecs = np.random.normal(scale=1/self.n_factors, size=(self.n_users, self.n_factors))\n",
        "        self.item_vecs = np.random.normal(scale=1/self.n_factors, size=(self.n_items, self.n_factors))\n",
        "        # compute global bias\n",
        "        self.global_bias = np.mean(self.ratings[np.where(self.ratings != 0)])\n",
        "        self.evaluate_the_model(0)\n",
        "\n",
        "\n",
        "    def predict(self, u, i):\n",
        "        return self.global_bias+self.user_biases[u]+self.item_biases[i]+self.user_vecs[u]@self.item_vecs[i]\n",
        "\n",
        "    def update_biases_and_vectors(self, error, u, i):\n",
        "        # Update biases\n",
        "        self.user_biases[u] += self.l_rate*(error - self.alpha*self.user_biases[u])\n",
        "        self.item_biases[i] += self.l_rate*(error - self.alpha*self.item_biases[i])\n",
        "        # Update User and item Vectors\n",
        "        self.user_vecs[u, :] += self.l_rate*(error*self.item_vecs[i, :] - self.alpha*self.user_vecs[u, :])\n",
        "        self.item_vecs[i, :] += self.l_rate*(error*self.user_vecs[u, :] - self.alpha*self.item_vecs[i, :])\n",
        "\n",
        "    def evaluate_the_model(self, epoch):\n",
        "        tot_square_error = 0\n",
        "        for index in self.ind_lst:\n",
        "            u, i = self.non_zero_row_ind[index], self.non_zero_col_ind[index]\n",
        "            pred_rat = self.predict(u, i)\n",
        "            tot_square_error += (self.ratings[u, i]-pred_rat)**2\n",
        "        mse = tot_square_error/self.n_interac\n",
        "        self.mse_lst.append(mse)\n",
        "        if self.verbose:\n",
        "            print(f\"---> Epoch {epoch}\")\n",
        "            temp = np.round(time.time()-self.now, 3)\n",
        "            print(f\"ave mse {np.round(self.mse_lst[-1], 3)} ===> Total training time: {temp} seconds.\")\n",
        "\n",
        "    def early_stopping(self, epoch):\n",
        "        if (self.mse_lst[-2] - self.mse_lst[-1]) <= self.tol:\n",
        "            if self.wait == self.n_iter_no_change:\n",
        "                temp = np.round(time.time()-self.now, 3)\n",
        "                if self.verbose: print(f\"Convergence after {epoch} epochs time took: {temp} seconds.\")\n",
        "                self.stop = True\n",
        "                self.conv_epoch_num = epoch\n",
        "            self.wait += 1\n",
        "        else:\n",
        "            self.wait = 0\n",
        "\n",
        "    def fit(self, ):\n",
        "        self.initialize()\n",
        "        for epoch in range(1, self.n_iter):\n",
        "            np.random.shuffle(self.ind_lst)\n",
        "            if self.stop == False:\n",
        "                for index in self.ind_lst:\n",
        "                    u, i = self.non_zero_row_ind[index], self.non_zero_col_ind[index]\n",
        "                    pred_rat = self.predict(u, i)\n",
        "                    error = self.ratings[u, i]-pred_rat\n",
        "                    self.update_biases_and_vectors(error, u, i)\n",
        "\n",
        "                self.evaluate_the_model(epoch)\n",
        "                self.early_stopping(epoch)\n",
        "\n",
        "        self.plot_the_score()\n",
        "\n",
        "\n",
        "    # Creates a line plot of MSE versus the number of epochs.\n",
        "    def plot_the_score(self, ):\n",
        "        plt.figure(figsize=(18,6))\n",
        "        plt.plot(range(1, 1+len(self.mse_lst)), self.mse_lst, marker='o')\n",
        "        plt.title(\"MSE loss vs epochs\", fontsize=20)\n",
        "        plt.xlabel('Number of epochs', fontsize=18)\n",
        "        plt.ylabel('mean square error', fontsize=18)\n",
        "        plt.xticks(range(1, self.conv_epoch_num+5), fontsize=15, rotation=90)\n",
        "        plt.yticks(np.linspace(min(self.mse_lst), max(self.mse_lst),15), fontsize=15)\n",
        "        plt.grid()\n",
        "        plt.show()"
      ],
      "metadata": {
        "id": "c66ZCV3Nt-Mk"
      },
      "execution_count": null,
      "outputs": []
    },
    {
      "cell_type": "code",
      "source": [
        "obj = MatrixFactorization(new_ratings)\n",
        "obj.fit()"
      ],
      "metadata": {
        "colab": {
          "base_uri": "https://localhost:8080/",
          "height": 1000
        },
        "id": "Rd2bpPZzuYAK",
        "outputId": "42e16531-3de1-49c1-a695-ab9403935f45"
      },
      "execution_count": null,
      "outputs": [
        {
          "output_type": "stream",
          "name": "stdout",
          "text": [
            "---> Epoch 0\n",
            "ave mse 1.267 ===> Total training time: 0.465 seconds.\n",
            "---> Epoch 1\n",
            "ave mse 0.92 ===> Total training time: 3.397 seconds.\n",
            "---> Epoch 2\n",
            "ave mse 0.881 ===> Total training time: 6.861 seconds.\n",
            "---> Epoch 3\n",
            "ave mse 0.865 ===> Total training time: 9.984 seconds.\n",
            "---> Epoch 4\n",
            "ave mse 0.855 ===> Total training time: 12.216 seconds.\n",
            "---> Epoch 5\n",
            "ave mse 0.849 ===> Total training time: 14.449 seconds.\n",
            "---> Epoch 6\n",
            "ave mse 0.844 ===> Total training time: 16.655 seconds.\n",
            "---> Epoch 7\n",
            "ave mse 0.839 ===> Total training time: 18.895 seconds.\n",
            "---> Epoch 8\n",
            "ave mse 0.831 ===> Total training time: 22.535 seconds.\n",
            "---> Epoch 9\n",
            "ave mse 0.82 ===> Total training time: 24.789 seconds.\n",
            "---> Epoch 10\n",
            "ave mse 0.803 ===> Total training time: 27.015 seconds.\n",
            "---> Epoch 11\n",
            "ave mse 0.78 ===> Total training time: 29.244 seconds.\n",
            "---> Epoch 12\n",
            "ave mse 0.754 ===> Total training time: 31.499 seconds.\n",
            "---> Epoch 13\n",
            "ave mse 0.725 ===> Total training time: 35.075 seconds.\n",
            "---> Epoch 14\n",
            "ave mse 0.693 ===> Total training time: 37.532 seconds.\n",
            "---> Epoch 15\n",
            "ave mse 0.659 ===> Total training time: 39.752 seconds.\n",
            "---> Epoch 16\n",
            "ave mse 0.622 ===> Total training time: 41.974 seconds.\n",
            "---> Epoch 17\n",
            "ave mse 0.583 ===> Total training time: 44.242 seconds.\n",
            "---> Epoch 18\n",
            "ave mse 0.544 ===> Total training time: 47.084 seconds.\n",
            "---> Epoch 19\n",
            "ave mse 0.504 ===> Total training time: 50.259 seconds.\n",
            "---> Epoch 20\n",
            "ave mse 0.466 ===> Total training time: 52.484 seconds.\n",
            "---> Epoch 21\n",
            "ave mse 0.428 ===> Total training time: 55.488 seconds.\n",
            "---> Epoch 22\n",
            "ave mse 0.393 ===> Total training time: 58.113 seconds.\n",
            "---> Epoch 23\n",
            "ave mse 0.36 ===> Total training time: 61.445 seconds.\n",
            "---> Epoch 24\n",
            "ave mse 0.329 ===> Total training time: 64.27 seconds.\n",
            "---> Epoch 25\n",
            "ave mse 0.3 ===> Total training time: 66.517 seconds.\n",
            "---> Epoch 26\n",
            "ave mse 0.274 ===> Total training time: 68.728 seconds.\n",
            "---> Epoch 27\n",
            "ave mse 0.251 ===> Total training time: 70.943 seconds.\n",
            "---> Epoch 28\n",
            "ave mse 0.229 ===> Total training time: 73.478 seconds.\n",
            "---> Epoch 29\n",
            "ave mse 0.21 ===> Total training time: 76.966 seconds.\n",
            "---> Epoch 30\n",
            "ave mse 0.192 ===> Total training time: 79.212 seconds.\n",
            "---> Epoch 31\n",
            "ave mse 0.177 ===> Total training time: 81.437 seconds.\n",
            "---> Epoch 32\n",
            "ave mse 0.163 ===> Total training time: 83.761 seconds.\n",
            "---> Epoch 33\n",
            "ave mse 0.15 ===> Total training time: 85.97 seconds.\n",
            "---> Epoch 34\n",
            "ave mse 0.139 ===> Total training time: 89.715 seconds.\n",
            "---> Epoch 35\n",
            "ave mse 0.129 ===> Total training time: 91.957 seconds.\n",
            "---> Epoch 36\n",
            "ave mse 0.119 ===> Total training time: 94.709 seconds.\n",
            "---> Epoch 37\n",
            "ave mse 0.111 ===> Total training time: 96.918 seconds.\n",
            "---> Epoch 38\n",
            "ave mse 0.104 ===> Total training time: 99.136 seconds.\n",
            "---> Epoch 39\n",
            "ave mse 0.097 ===> Total training time: 102.828 seconds.\n",
            "---> Epoch 40\n",
            "ave mse 0.091 ===> Total training time: 105.039 seconds.\n",
            "---> Epoch 41\n",
            "ave mse 0.085 ===> Total training time: 107.259 seconds.\n",
            "---> Epoch 42\n",
            "ave mse 0.08 ===> Total training time: 109.552 seconds.\n",
            "---> Epoch 43\n",
            "ave mse 0.076 ===> Total training time: 111.761 seconds.\n",
            "---> Epoch 44\n",
            "ave mse 0.071 ===> Total training time: 114.909 seconds.\n",
            "---> Epoch 45\n",
            "ave mse 0.068 ===> Total training time: 117.706 seconds.\n",
            "---> Epoch 46\n",
            "ave mse 0.064 ===> Total training time: 119.982 seconds.\n",
            "---> Epoch 47\n",
            "ave mse 0.061 ===> Total training time: 122.222 seconds.\n",
            "---> Epoch 48\n",
            "ave mse 0.058 ===> Total training time: 124.479 seconds.\n",
            "---> Epoch 49\n",
            "ave mse 0.056 ===> Total training time: 127.063 seconds.\n",
            "---> Epoch 50\n",
            "ave mse 0.053 ===> Total training time: 130.4 seconds.\n",
            "---> Epoch 51\n",
            "ave mse 0.051 ===> Total training time: 132.6 seconds.\n",
            "---> Epoch 52\n",
            "ave mse 0.049 ===> Total training time: 134.827 seconds.\n",
            "---> Epoch 53\n",
            "ave mse 0.047 ===> Total training time: 137.1 seconds.\n",
            "---> Epoch 54\n",
            "ave mse 0.045 ===> Total training time: 139.301 seconds.\n",
            "---> Epoch 55\n",
            "ave mse 0.044 ===> Total training time: 143.099 seconds.\n",
            "---> Epoch 56\n",
            "ave mse 0.042 ===> Total training time: 145.368 seconds.\n",
            "---> Epoch 57\n",
            "ave mse 0.041 ===> Total training time: 147.581 seconds.\n",
            "---> Epoch 58\n",
            "ave mse 0.039 ===> Total training time: 149.792 seconds.\n",
            "---> Epoch 59\n",
            "ave mse 0.038 ===> Total training time: 152.025 seconds.\n",
            "---> Epoch 60\n",
            "ave mse 0.037 ===> Total training time: 155.141 seconds.\n",
            "---> Epoch 61\n",
            "ave mse 0.036 ===> Total training time: 158.105 seconds.\n",
            "---> Epoch 62\n",
            "ave mse 0.035 ===> Total training time: 160.32 seconds.\n",
            "---> Epoch 63\n",
            "ave mse 0.034 ===> Total training time: 162.533 seconds.\n",
            "---> Epoch 64\n",
            "ave mse 0.033 ===> Total training time: 164.76 seconds.\n",
            "---> Epoch 65\n",
            "ave mse 0.032 ===> Total training time: 167.138 seconds.\n",
            "---> Epoch 66\n",
            "ave mse 0.031 ===> Total training time: 170.726 seconds.\n",
            "---> Epoch 67\n",
            "ave mse 0.031 ===> Total training time: 173.027 seconds.\n",
            "---> Epoch 68\n",
            "ave mse 0.03 ===> Total training time: 175.224 seconds.\n",
            "---> Epoch 69\n",
            "ave mse 0.029 ===> Total training time: 177.453 seconds.\n",
            "---> Epoch 70\n",
            "ave mse 0.029 ===> Total training time: 179.661 seconds.\n",
            "---> Epoch 71\n",
            "ave mse 0.028 ===> Total training time: 183.243 seconds.\n",
            "---> Epoch 72\n",
            "ave mse 0.028 ===> Total training time: 185.824 seconds.\n",
            "---> Epoch 73\n",
            "ave mse 0.027 ===> Total training time: 188.077 seconds.\n",
            "Convergence after 73 epochs time took: 188.077 seconds.\n"
          ]
        },
        {
          "output_type": "display_data",
          "data": {
            "text/plain": [
              "<Figure size 1800x600 with 1 Axes>"
            ],
            "image/png": "[encoded data removed]"
          },
          "metadata": {}
        }
      ]
    },
    {
      "cell_type": "markdown",
      "source": [
        "# Recommend Function"
      ],
      "metadata": {
        "id": "sO25nZ0B3ezH"
      }
    },
    {
      "cell_type": "markdown",
      "source": [
        "Importing Library"
      ],
      "metadata": {
        "id": "CLVUWZlUyI5q"
      }
    },
    {
      "cell_type": "code",
      "source": [
        "from sklearn.metrics.pairwise import cosine_similarity"
      ],
      "metadata": {
        "id": "oAYHIyT8yF3s"
      },
      "execution_count": null,
      "outputs": []
    },
    {
      "cell_type": "markdown",
      "source": [
        "Loading the movie titles from the 'u.item' file"
      ],
      "metadata": {
        "id": "bEZ0oKypyP7d"
      }
    },
    {
      "cell_type": "code",
      "source": [
        "movies=pd.read_csv(path/'u.item',delimiter='|',encoding='latin-1',header=None,names=['movie_id','title'],usecols=[0,1])\n",
        "movies['movie_id']=movies['movie_id']-1"
      ],
      "metadata": {
        "id": "nFuo-3rQyUZP"
      },
      "execution_count": null,
      "outputs": []
    },
    {
      "cell_type": "markdown",
      "source": [
        "Recommend function"
      ],
      "metadata": {
        "id": "pYbq-c6Zyey8"
      }
    },
    {
      "cell_type": "code",
      "source": [
        "def recommend(movie_title, user_id, top_n):\n",
        "    try:\n",
        "        movie_id=movies[movies['title']==movie_title]['movie_id'].values[0]\n",
        "    except IndexError:\n",
        "        print(f\"Movie'{movie_title}' not found in the dataset.\")\n",
        "        return []\n",
        "\n",
        "    user_predicted_ratings=[obj.predict(user_id,i) for i in range(obj.n_items)]\n",
        "\n",
        "    movie_vectors=obj.item_vecs\n",
        "    similarity_scores=cosine_similarity([movie_vectors[movie_id]],movie_vectors)[0]\n",
        "\n",
        "    recommendations=pd.DataFrame({\n",
        "        'movie_id':range(obj.n_items),\n",
        "        'predicted_rating':user_predicted_ratings,\n",
        "        'similarity_score':similarity_scores\n",
        "    })\n",
        "\n",
        "    rated_movies=np.where(new_ratings[user_id]>0)[0]\n",
        "    recommendations=recommendations[~recommendations['movie_id'].isin(rated_movies)]\n",
        "    recommendations=recommendations.sort_values(by=['similarity_score','predicted_rating'],ascending=False)\n",
        "    top_recommendations=recommendations.head(top_n)\n",
        "\n",
        "    recommended_titles=movies[movies['movie_id'].isin(top_recommendations['movie_id'])]['title'].tolist()\n",
        "\n",
        "    return recommended_titles"
      ],
      "metadata": {
        "id": "8T_xSmJxyEpV"
      },
      "execution_count": null,
      "outputs": []
    },
    {
      "cell_type": "markdown",
      "source": [
        "Example"
      ],
      "metadata": {
        "id": "zXDFDQes00QJ"
      }
    },
    {
      "cell_type": "code",
      "source": [
        "user_id=10\n",
        "movie_title=\"Star Wars (1977)\"\n",
        "top_n=5"
      ],
      "metadata": {
        "id": "CUlswtlZ01nr"
      },
      "execution_count": null,
      "outputs": []
    },
    {
      "cell_type": "code",
      "source": [
        "recommended_movies=recommend(movie_title,user_id,top_n)\n",
        "print(f\"Top {top_n} recommendations for user {user_id} based on '{movie_title}':\")\n",
        "print(recommended_movies)"
      ],
      "metadata": {
        "colab": {
          "base_uri": "https://localhost:8080/"
        },
        "id": "e-ZEtQ3gzELG",
        "outputId": "27a5198f-bc77-45c6-dc24-f98e5c3bdc10"
      },
      "execution_count": null,
      "outputs": [
        {
          "output_type": "stream",
          "name": "stdout",
          "text": [
            "Top 5 recommendations for user 10 based on 'Star Wars (1977)':\n",
            "['Star Wars (1977)', 'Empire Strikes Back, The (1980)', 'Raiders of the Lost Ark (1981)', 'Return of the Jedi (1983)', 'Butterfly Kiss (1995)']\n"
          ]
        }
      ]
    }
  ]
}